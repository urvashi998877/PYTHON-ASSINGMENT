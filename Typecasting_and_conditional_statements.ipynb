{
  "nbformat": 4,
  "nbformat_minor": 0,
  "metadata": {
    "colab": {
      "provenance": [],
      "authorship_tag": "ABX9TyNgv3TTV2oGbmSAn/mYizQy",
      "include_colab_link": true
    },
    "kernelspec": {
      "name": "python3",
      "display_name": "Python 3"
    },
    "language_info": {
      "name": "python"
    }
  },
  "cells": [
    {
      "cell_type": "markdown",
      "metadata": {
        "id": "view-in-github",
        "colab_type": "text"
      },
      "source": [
        "<a href=\"https://colab.research.google.com/github/urvashi998877/PYTHON-ASSINGMENT/blob/main/Typecasting_and_conditional_statements.ipynb\" target=\"_parent\"><img src=\"https://colab.research.google.com/assets/colab-badge.svg\" alt=\"Open In Colab\"/></a>"
      ]
    },
    {
      "cell_type": "code",
      "execution_count": null,
      "metadata": {
        "colab": {
          "base_uri": "https://localhost:8080/"
        },
        "id": "wtvQKzvNFzEh",
        "outputId": "e749a48a-d912-47e7-baff-72e379f62d71"
      },
      "outputs": [
        {
          "output_type": "execute_result",
          "data": {
            "text/plain": [
              "5"
            ]
          },
          "metadata": {},
          "execution_count": 1
        }
      ],
      "source": [
        "a = 5\n",
        "a"
      ]
    },
    {
      "cell_type": "code",
      "source": [
        "type(a)"
      ],
      "metadata": {
        "colab": {
          "base_uri": "https://localhost:8080/"
        },
        "id": "ZHDzJJlBGs_U",
        "outputId": "10db88e7-ff62-45b1-8508-e5691f79b4f3"
      },
      "execution_count": null,
      "outputs": [
        {
          "output_type": "execute_result",
          "data": {
            "text/plain": [
              "int"
            ]
          },
          "metadata": {},
          "execution_count": 2
        }
      ]
    },
    {
      "cell_type": "code",
      "source": [
        "b = 5.6\n",
        "type(b)"
      ],
      "metadata": {
        "colab": {
          "base_uri": "https://localhost:8080/"
        },
        "id": "FtEflzunGyIa",
        "outputId": "413062a1-60ca-4efb-9545-0d542c20ae98"
      },
      "execution_count": null,
      "outputs": [
        {
          "output_type": "execute_result",
          "data": {
            "text/plain": [
              "float"
            ]
          },
          "metadata": {},
          "execution_count": 3
        }
      ]
    },
    {
      "cell_type": "code",
      "source": [
        "a = \"urvi\"\n",
        "type(a)"
      ],
      "metadata": {
        "colab": {
          "base_uri": "https://localhost:8080/"
        },
        "id": "ZhRyJLPcG51d",
        "outputId": "e91be526-dbc4-4f98-9730-54588db8ac3e"
      },
      "execution_count": null,
      "outputs": [
        {
          "output_type": "execute_result",
          "data": {
            "text/plain": [
              "str"
            ]
          },
          "metadata": {},
          "execution_count": 4
        }
      ]
    },
    {
      "cell_type": "code",
      "source": [
        "2 + 3"
      ],
      "metadata": {
        "colab": {
          "base_uri": "https://localhost:8080/"
        },
        "id": "QInqQG2tHIAs",
        "outputId": "5c1353f2-41eb-45a8-d51f-b3c3f15d5572"
      },
      "execution_count": null,
      "outputs": [
        {
          "output_type": "execute_result",
          "data": {
            "text/plain": [
              "5"
            ]
          },
          "metadata": {},
          "execution_count": 5
        }
      ]
    },
    {
      "cell_type": "markdown",
      "source": [
        "# due to double quotes (\"\") integer beacome string, now we cannot add it will throw an error."
      ],
      "metadata": {
        "id": "kcU-Z53qKXDE"
      }
    },
    {
      "cell_type": "code",
      "source": [
        "\"2\" + 3"
      ],
      "metadata": {
        "colab": {
          "base_uri": "https://localhost:8080/",
          "height": 146
        },
        "id": "EUxSIkezHMhI",
        "outputId": "80847114-0303-4b1a-a66d-a771f90918c2"
      },
      "execution_count": null,
      "outputs": [
        {
          "output_type": "error",
          "ename": "TypeError",
          "evalue": "can only concatenate str (not \"int\") to str",
          "traceback": [
            "\u001b[0;31m---------------------------------------------------------------------------\u001b[0m",
            "\u001b[0;31mTypeError\u001b[0m                                 Traceback (most recent call last)",
            "\u001b[0;32m<ipython-input-6-2091ad1d69ef>\u001b[0m in \u001b[0;36m<cell line: 1>\u001b[0;34m()\u001b[0m\n\u001b[0;32m----> 1\u001b[0;31m \u001b[0;34m\"2\"\u001b[0m \u001b[0;34m+\u001b[0m \u001b[0;36m3\u001b[0m\u001b[0;34m\u001b[0m\u001b[0;34m\u001b[0m\u001b[0m\n\u001b[0m",
            "\u001b[0;31mTypeError\u001b[0m: can only concatenate str (not \"int\") to str"
          ]
        }
      ]
    },
    {
      "cell_type": "code",
      "source": [
        "2 + 2.5"
      ],
      "metadata": {
        "colab": {
          "base_uri": "https://localhost:8080/"
        },
        "id": "dfm3d1e7HR1i",
        "outputId": "c4138fe7-6e87-4b51-d11d-7af187fa8019"
      },
      "execution_count": null,
      "outputs": [
        {
          "output_type": "execute_result",
          "data": {
            "text/plain": [
              "4.5"
            ]
          },
          "metadata": {},
          "execution_count": 8
        }
      ]
    },
    {
      "cell_type": "markdown",
      "source": [
        "# type casting/type conversion >> the process of changing the data type of a value/object\n",
        "# why ? while executing/computation using opertors, there can be mismatch between the data type\n"
      ],
      "metadata": {
        "id": "qx9wE9yqL5cA"
      }
    },
    {
      "cell_type": "code",
      "source": [
        "a = \"2\"\n",
        "b = 3\n",
        "a+b\n"
      ],
      "metadata": {
        "colab": {
          "base_uri": "https://localhost:8080/",
          "height": 182
        },
        "id": "wxM__NOJHzNi",
        "outputId": "ff056570-ef84-473f-f181-4eb479f627c4"
      },
      "execution_count": null,
      "outputs": [
        {
          "output_type": "error",
          "ename": "TypeError",
          "evalue": "can only concatenate str (not \"int\") to str",
          "traceback": [
            "\u001b[0;31m---------------------------------------------------------------------------\u001b[0m",
            "\u001b[0;31mTypeError\u001b[0m                                 Traceback (most recent call last)",
            "\u001b[0;32m<ipython-input-9-a5d6af5e8d1a>\u001b[0m in \u001b[0;36m<cell line: 3>\u001b[0;34m()\u001b[0m\n\u001b[1;32m      1\u001b[0m \u001b[0ma\u001b[0m \u001b[0;34m=\u001b[0m \u001b[0;34m\"2\"\u001b[0m\u001b[0;34m\u001b[0m\u001b[0;34m\u001b[0m\u001b[0m\n\u001b[1;32m      2\u001b[0m \u001b[0mb\u001b[0m \u001b[0;34m=\u001b[0m \u001b[0;36m3\u001b[0m\u001b[0;34m\u001b[0m\u001b[0;34m\u001b[0m\u001b[0m\n\u001b[0;32m----> 3\u001b[0;31m \u001b[0ma\u001b[0m\u001b[0;34m+\u001b[0m\u001b[0mb\u001b[0m\u001b[0;34m\u001b[0m\u001b[0;34m\u001b[0m\u001b[0m\n\u001b[0m",
            "\u001b[0;31mTypeError\u001b[0m: can only concatenate str (not \"int\") to str"
          ]
        }
      ]
    },
    {
      "cell_type": "code",
      "source": [
        "type(a)"
      ],
      "metadata": {
        "colab": {
          "base_uri": "https://localhost:8080/"
        },
        "id": "u3blXkDBQ4VS",
        "outputId": "f890911a-e2cd-42de-d7da-0d596602e685"
      },
      "execution_count": null,
      "outputs": [
        {
          "output_type": "execute_result",
          "data": {
            "text/plain": [
              "str"
            ]
          },
          "metadata": {},
          "execution_count": 10
        }
      ]
    },
    {
      "cell_type": "code",
      "source": [
        "# now we write the same value but write the int, so we have change the data type\n",
        "#from str to int, so before (a) we put int to convert it from str to int\n",
        "\n",
        "a = \"2\"\n",
        "b = 3\n",
        "int(a)+b\n",
        "\n",
        "\n"
      ],
      "metadata": {
        "colab": {
          "base_uri": "https://localhost:8080/"
        },
        "id": "godHiS51RDjh",
        "outputId": "70766abd-87af-4fe2-c9f8-c6fe26a4e9cd"
      },
      "execution_count": null,
      "outputs": [
        {
          "output_type": "execute_result",
          "data": {
            "text/plain": [
              "5"
            ]
          },
          "metadata": {},
          "execution_count": 12
        }
      ]
    },
    {
      "cell_type": "code",
      "source": [
        "a = \"2\"\n",
        "print(type(a))\n",
        "print(type(int(a)))"
      ],
      "metadata": {
        "colab": {
          "base_uri": "https://localhost:8080/"
        },
        "id": "jEtj-KI3Tsyg",
        "outputId": "5f2ce40d-4347-4aec-86c2-8882778727a5"
      },
      "execution_count": null,
      "outputs": [
        {
          "output_type": "stream",
          "name": "stdout",
          "text": [
            "<class 'str'>\n",
            "<class 'int'>\n"
          ]
        }
      ]
    },
    {
      "cell_type": "code",
      "source": [
        "a = 3.4\n",
        "type(a)"
      ],
      "metadata": {
        "colab": {
          "base_uri": "https://localhost:8080/"
        },
        "id": "UbArhuXdTsdi",
        "outputId": "db652bcc-df3c-4222-db18-7730b5cdbea6"
      },
      "execution_count": null,
      "outputs": [
        {
          "output_type": "execute_result",
          "data": {
            "text/plain": [
              "float"
            ]
          },
          "metadata": {},
          "execution_count": 14
        }
      ]
    },
    {
      "cell_type": "code",
      "source": [
        "int(a)"
      ],
      "metadata": {
        "colab": {
          "base_uri": "https://localhost:8080/"
        },
        "id": "VTGctiGiTsJK",
        "outputId": "26bcac08-5f05-4b58-8a5b-18912ac5cd06"
      },
      "execution_count": null,
      "outputs": [
        {
          "output_type": "execute_result",
          "data": {
            "text/plain": [
              "3"
            ]
          },
          "metadata": {},
          "execution_count": 15
        }
      ]
    },
    {
      "cell_type": "code",
      "source": [
        "b = 6.78\n",
        "type (b)\n",
        "float_value = int(b)\n",
        "type(float_value)\n",
        "\n"
      ],
      "metadata": {
        "colab": {
          "base_uri": "https://localhost:8080/"
        },
        "id": "QedOkULNUJO1",
        "outputId": "0732390f-61d9-4764-bcb9-455770aa6cfd"
      },
      "execution_count": null,
      "outputs": [
        {
          "output_type": "execute_result",
          "data": {
            "text/plain": [
              "int"
            ]
          },
          "metadata": {},
          "execution_count": 17
        }
      ]
    },
    {
      "cell_type": "code",
      "source": [
        "#integer to float\n",
        "a = 2\n",
        "type(a)\n",
        "\n",
        "\n"
      ],
      "metadata": {
        "colab": {
          "base_uri": "https://localhost:8080/"
        },
        "id": "qKLYxU6yUlVz",
        "outputId": "0d55f537-f6ad-4443-dc1d-edc032a8ceb9"
      },
      "execution_count": null,
      "outputs": [
        {
          "output_type": "execute_result",
          "data": {
            "text/plain": [
              "int"
            ]
          },
          "metadata": {},
          "execution_count": 24
        }
      ]
    },
    {
      "cell_type": "code",
      "source": [
        " b = float(a)\n",
        " b"
      ],
      "metadata": {
        "colab": {
          "base_uri": "https://localhost:8080/"
        },
        "id": "jFvJZLQ6VqrR",
        "outputId": "f65eea98-6130-416f-90ad-86279e6b5cac"
      },
      "execution_count": null,
      "outputs": [
        {
          "output_type": "execute_result",
          "data": {
            "text/plain": [
              "2.0"
            ]
          },
          "metadata": {},
          "execution_count": 29
        }
      ]
    },
    {
      "cell_type": "code",
      "source": [
        "type(a)"
      ],
      "metadata": {
        "colab": {
          "base_uri": "https://localhost:8080/"
        },
        "id": "BH9NrYc-WhYq",
        "outputId": "1fdd119c-4e4f-4115-cc2b-c3aa3ccdbac2"
      },
      "execution_count": null,
      "outputs": [
        {
          "output_type": "execute_result",
          "data": {
            "text/plain": [
              "int"
            ]
          },
          "metadata": {},
          "execution_count": 30
        }
      ]
    },
    {
      "cell_type": "code",
      "source": [
        "type(b)"
      ],
      "metadata": {
        "colab": {
          "base_uri": "https://localhost:8080/"
        },
        "id": "pmMIrBdVXTls",
        "outputId": "c3c54660-756e-4499-b5b9-601bcb4f3905"
      },
      "execution_count": null,
      "outputs": [
        {
          "output_type": "execute_result",
          "data": {
            "text/plain": [
              "float"
            ]
          },
          "metadata": {},
          "execution_count": 31
        }
      ]
    },
    {
      "cell_type": "code",
      "source": [
        "#string to float\n",
        "a = \"4.3\"\n",
        "type(a)"
      ],
      "metadata": {
        "colab": {
          "base_uri": "https://localhost:8080/"
        },
        "id": "_JXARpDKX8Uo",
        "outputId": "835b1dc5-767e-4992-95cf-e30d6d9d58f2"
      },
      "execution_count": null,
      "outputs": [
        {
          "output_type": "execute_result",
          "data": {
            "text/plain": [
              "str"
            ]
          },
          "metadata": {},
          "execution_count": 32
        }
      ]
    },
    {
      "cell_type": "code",
      "source": [
        "b = float(a)\n",
        "type(b)"
      ],
      "metadata": {
        "colab": {
          "base_uri": "https://localhost:8080/"
        },
        "id": "pgiN5QOLYJgX",
        "outputId": "8e94a9af-eb67-4fd8-9bef-bfc5b7016a48"
      },
      "execution_count": null,
      "outputs": [
        {
          "output_type": "execute_result",
          "data": {
            "text/plain": [
              "float"
            ]
          },
          "metadata": {},
          "execution_count": 33
        }
      ]
    },
    {
      "cell_type": "code",
      "source": [
        "a = \"Ajay\" # Character cannot be converted into numbers\n",
        " type(a)"
      ],
      "metadata": {
        "colab": {
          "base_uri": "https://localhost:8080/",
          "height": 109
        },
        "id": "cINpi5zJYU_e",
        "outputId": "de9d1a13-7ece-4283-ffba-e1150d537352"
      },
      "execution_count": null,
      "outputs": [
        {
          "output_type": "error",
          "ename": "IndentationError",
          "evalue": "unexpected indent (<ipython-input-34-5e0b2c751ed4>, line 2)",
          "traceback": [
            "\u001b[0;36m  File \u001b[0;32m\"<ipython-input-34-5e0b2c751ed4>\"\u001b[0;36m, line \u001b[0;32m2\u001b[0m\n\u001b[0;31m    type(a)\u001b[0m\n\u001b[0m    ^\u001b[0m\n\u001b[0;31mIndentationError\u001b[0m\u001b[0;31m:\u001b[0m unexpected indent\n"
          ]
        }
      ]
    },
    {
      "cell_type": "code",
      "source": [
        "int(a)"
      ],
      "metadata": {
        "colab": {
          "base_uri": "https://localhost:8080/",
          "height": 146
        },
        "id": "gTI7TVszvvdN",
        "outputId": "fad0a3e0-b0f0-470c-cd66-7b883685fc9f"
      },
      "execution_count": null,
      "outputs": [
        {
          "output_type": "error",
          "ename": "ValueError",
          "evalue": "invalid literal for int() with base 10: '4.3'",
          "traceback": [
            "\u001b[0;31m---------------------------------------------------------------------------\u001b[0m",
            "\u001b[0;31mValueError\u001b[0m                                Traceback (most recent call last)",
            "\u001b[0;32m<ipython-input-37-8b2ab3991dae>\u001b[0m in \u001b[0;36m<cell line: 1>\u001b[0;34m()\u001b[0m\n\u001b[0;32m----> 1\u001b[0;31m \u001b[0mint\u001b[0m\u001b[0;34m(\u001b[0m\u001b[0ma\u001b[0m\u001b[0;34m)\u001b[0m\u001b[0;34m\u001b[0m\u001b[0;34m\u001b[0m\u001b[0m\n\u001b[0m",
            "\u001b[0;31mValueError\u001b[0m: invalid literal for int() with base 10: '4.3'"
          ]
        }
      ]
    },
    {
      "cell_type": "code",
      "source": [
        "type(a)"
      ],
      "metadata": {
        "colab": {
          "base_uri": "https://localhost:8080/"
        },
        "id": "GnqW5EK9vyjv",
        "outputId": "0ca8ff03-7d9c-44d6-cd89-0d175dab5102"
      },
      "execution_count": null,
      "outputs": [
        {
          "output_type": "execute_result",
          "data": {
            "text/plain": [
              "str"
            ]
          },
          "metadata": {},
          "execution_count": 38
        }
      ]
    },
    {
      "cell_type": "code",
      "source": [
        "#integer to string\n",
        "a = 5\n",
        "type(a)"
      ],
      "metadata": {
        "colab": {
          "base_uri": "https://localhost:8080/"
        },
        "id": "e60dQt_s0heY",
        "outputId": "db83254f-5edf-4ee6-9de7-f8285f6f59c5"
      },
      "execution_count": null,
      "outputs": [
        {
          "output_type": "execute_result",
          "data": {
            "text/plain": [
              "int"
            ]
          },
          "metadata": {},
          "execution_count": 39
        }
      ]
    },
    {
      "cell_type": "code",
      "source": [
        "a\n"
      ],
      "metadata": {
        "colab": {
          "base_uri": "https://localhost:8080/"
        },
        "id": "QThdNcWd0sHe",
        "outputId": "748d08cd-77de-4963-c441-ee04b9be6f82"
      },
      "execution_count": null,
      "outputs": [
        {
          "output_type": "execute_result",
          "data": {
            "text/plain": [
              "5"
            ]
          },
          "metadata": {},
          "execution_count": 40
        }
      ]
    },
    {
      "cell_type": "code",
      "source": [
        "c = str(a)\n",
        "c"
      ],
      "metadata": {
        "colab": {
          "base_uri": "https://localhost:8080/",
          "height": 36
        },
        "id": "_thQODdh0znP",
        "outputId": "234b09be-ca2c-4e63-d679-9acaf7747d45"
      },
      "execution_count": null,
      "outputs": [
        {
          "output_type": "execute_result",
          "data": {
            "text/plain": [
              "'5'"
            ],
            "application/vnd.google.colaboratory.intrinsic+json": {
              "type": "string"
            }
          },
          "metadata": {},
          "execution_count": 42
        }
      ]
    },
    {
      "cell_type": "code",
      "source": [
        "type(c)"
      ],
      "metadata": {
        "colab": {
          "base_uri": "https://localhost:8080/"
        },
        "id": "zOxpXg--0zcx",
        "outputId": "5bc34829-50f5-4d3d-ff32-98288454cc62"
      },
      "execution_count": null,
      "outputs": [
        {
          "output_type": "execute_result",
          "data": {
            "text/plain": [
              "str"
            ]
          },
          "metadata": {},
          "execution_count": 43
        }
      ]
    },
    {
      "cell_type": "code",
      "source": [
        "#typecasting>> implicit and explicit"
      ],
      "metadata": {
        "id": "ZSLyLuGf0zZU"
      },
      "execution_count": null,
      "outputs": []
    },
    {
      "cell_type": "code",
      "source": [
        "#implicit typecasting >> python understan the datatype\n",
        "a = 5\n",
        "type(a)"
      ],
      "metadata": {
        "colab": {
          "base_uri": "https://localhost:8080/"
        },
        "id": "mhwVx6gK1ZZ6",
        "outputId": "32d8aff7-590d-4ffc-b149-d9d4e9d8541c"
      },
      "execution_count": null,
      "outputs": [
        {
          "output_type": "execute_result",
          "data": {
            "text/plain": [
              "int"
            ]
          },
          "metadata": {},
          "execution_count": 45
        }
      ]
    },
    {
      "cell_type": "code",
      "source": [
        "2+3"
      ],
      "metadata": {
        "colab": {
          "base_uri": "https://localhost:8080/"
        },
        "id": "RKGFYYFN1uXw",
        "outputId": "f9a4b4bc-992c-4db3-a279-5f7d1488d714"
      },
      "execution_count": null,
      "outputs": [
        {
          "output_type": "execute_result",
          "data": {
            "text/plain": [
              "5"
            ]
          },
          "metadata": {},
          "execution_count": 46
        }
      ]
    },
    {
      "cell_type": "code",
      "source": [
        "2+3.5"
      ],
      "metadata": {
        "colab": {
          "base_uri": "https://localhost:8080/"
        },
        "id": "pHIWUXmd1uQv",
        "outputId": "11212061-55a7-47ad-882e-889c67d4ad26"
      },
      "execution_count": null,
      "outputs": [
        {
          "output_type": "execute_result",
          "data": {
            "text/plain": [
              "5.5"
            ]
          },
          "metadata": {},
          "execution_count": 47
        }
      ]
    },
    {
      "cell_type": "code",
      "source": [
        "#explict typecasting >> convert data type using inbuilt function >> str, int,float,boolen\n",
        "a = \"2\"\n",
        "type(a)"
      ],
      "metadata": {
        "colab": {
          "base_uri": "https://localhost:8080/"
        },
        "id": "5kboEGF11uKt",
        "outputId": "45cdfe19-994b-414a-ebff-ee3d1f26832c"
      },
      "execution_count": null,
      "outputs": [
        {
          "output_type": "execute_result",
          "data": {
            "text/plain": [
              "str"
            ]
          },
          "metadata": {},
          "execution_count": 58
        }
      ]
    },
    {
      "cell_type": "code",
      "source": [
        "int(a)"
      ],
      "metadata": {
        "colab": {
          "base_uri": "https://localhost:8080/"
        },
        "id": "SCb7P_EP1uEu",
        "outputId": "7161489d-85bd-4d02-f813-abe64626e711"
      },
      "execution_count": null,
      "outputs": [
        {
          "output_type": "execute_result",
          "data": {
            "text/plain": [
              "2"
            ]
          },
          "metadata": {},
          "execution_count": 49
        }
      ]
    },
    {
      "cell_type": "code",
      "source": [
        "float(a)"
      ],
      "metadata": {
        "colab": {
          "base_uri": "https://localhost:8080/"
        },
        "id": "bL6vUfp21uAg",
        "outputId": "0a9d3bf7-79da-4b84-fee0-f00eff41dcd2"
      },
      "execution_count": null,
      "outputs": [
        {
          "output_type": "execute_result",
          "data": {
            "text/plain": [
              "2.0"
            ]
          },
          "metadata": {},
          "execution_count": 50
        }
      ]
    },
    {
      "cell_type": "code",
      "source": [
        "\n",
        "a = \"urvi\"\n",
        "b = 3\n",
        "a+b"
      ],
      "metadata": {
        "colab": {
          "base_uri": "https://localhost:8080/",
          "height": 182
        },
        "id": "p96ylVLh1t7O",
        "outputId": "3bcb2285-27bb-4e1b-f7bb-cefbab68cc6c"
      },
      "execution_count": null,
      "outputs": [
        {
          "output_type": "error",
          "ename": "TypeError",
          "evalue": "can only concatenate str (not \"int\") to str",
          "traceback": [
            "\u001b[0;31m---------------------------------------------------------------------------\u001b[0m",
            "\u001b[0;31mTypeError\u001b[0m                                 Traceback (most recent call last)",
            "\u001b[0;32m<ipython-input-51-cb566bc5a1f7>\u001b[0m in \u001b[0;36m<cell line: 3>\u001b[0;34m()\u001b[0m\n\u001b[1;32m      1\u001b[0m \u001b[0ma\u001b[0m \u001b[0;34m=\u001b[0m \u001b[0;34m\"urvi\"\u001b[0m\u001b[0;34m\u001b[0m\u001b[0;34m\u001b[0m\u001b[0m\n\u001b[1;32m      2\u001b[0m \u001b[0mb\u001b[0m \u001b[0;34m=\u001b[0m \u001b[0;36m3\u001b[0m\u001b[0;34m\u001b[0m\u001b[0;34m\u001b[0m\u001b[0m\n\u001b[0;32m----> 3\u001b[0;31m \u001b[0ma\u001b[0m\u001b[0;34m+\u001b[0m\u001b[0mb\u001b[0m\u001b[0;34m\u001b[0m\u001b[0;34m\u001b[0m\u001b[0m\n\u001b[0m",
            "\u001b[0;31mTypeError\u001b[0m: can only concatenate str (not \"int\") to str"
          ]
        }
      ]
    },
    {
      "cell_type": "markdown",
      "source": [
        "#concatenation of strings>> meaning combine the string"
      ],
      "metadata": {
        "id": "V_Awm_SM25lO"
      }
    },
    {
      "cell_type": "code",
      "source": [
        "a = \" urvi \"\n",
        "b = \" thakur \"\n",
        "a+b"
      ],
      "metadata": {
        "colab": {
          "base_uri": "https://localhost:8080/",
          "height": 36
        },
        "id": "YPBG4Aex2gd_",
        "outputId": "9f612df6-ccb7-4d70-8442-38b3aeb01af8"
      },
      "execution_count": null,
      "outputs": [
        {
          "output_type": "execute_result",
          "data": {
            "text/plain": [
              "' urvi  thakur '"
            ],
            "application/vnd.google.colaboratory.intrinsic+json": {
              "type": "string"
            }
          },
          "metadata": {},
          "execution_count": 54
        }
      ]
    },
    {
      "cell_type": "code",
      "source": [
        "\"pw\" + \"skills\""
      ],
      "metadata": {
        "colab": {
          "base_uri": "https://localhost:8080/",
          "height": 36
        },
        "id": "zM8ru5a93Zmt",
        "outputId": "aafdf6af-58ac-428a-fc04-574e6bc8ef93"
      },
      "execution_count": null,
      "outputs": [
        {
          "output_type": "execute_result",
          "data": {
            "text/plain": [
              "'pwskills'"
            ],
            "application/vnd.google.colaboratory.intrinsic+json": {
              "type": "string"
            }
          },
          "metadata": {},
          "execution_count": 56
        }
      ]
    },
    {
      "cell_type": "code",
      "source": [
        "\"100\" + \"ajay\""
      ],
      "metadata": {
        "colab": {
          "base_uri": "https://localhost:8080/",
          "height": 36
        },
        "id": "NNwIyGmX1YhM",
        "outputId": "71703202-cdc0-4223-c017-05901b859c2e"
      },
      "execution_count": null,
      "outputs": [
        {
          "output_type": "execute_result",
          "data": {
            "text/plain": [
              "'100ajay'"
            ],
            "application/vnd.google.colaboratory.intrinsic+json": {
              "type": "string"
            }
          },
          "metadata": {},
          "execution_count": 57
        }
      ]
    },
    {
      "cell_type": "code",
      "source": [
        "#bool\n",
        "bool(0)"
      ],
      "metadata": {
        "colab": {
          "base_uri": "https://localhost:8080/"
        },
        "id": "qQCnmb5232LX",
        "outputId": "2b4bbc1e-fe81-4c51-ca6d-d969adf9b71d"
      },
      "execution_count": null,
      "outputs": [
        {
          "output_type": "execute_result",
          "data": {
            "text/plain": [
              "False"
            ]
          },
          "metadata": {},
          "execution_count": 59
        }
      ]
    },
    {
      "cell_type": "code",
      "source": [
        "bool(1)"
      ],
      "metadata": {
        "colab": {
          "base_uri": "https://localhost:8080/"
        },
        "id": "etm0qVyr6TrU",
        "outputId": "5b048b77-d0cf-43b8-b1e3-98f1b8b7dd2b"
      },
      "execution_count": null,
      "outputs": [
        {
          "output_type": "execute_result",
          "data": {
            "text/plain": [
              "True"
            ]
          },
          "metadata": {},
          "execution_count": 60
        }
      ]
    },
    {
      "cell_type": "code",
      "source": [
        "bool(9)"
      ],
      "metadata": {
        "colab": {
          "base_uri": "https://localhost:8080/"
        },
        "id": "HA7qrLi96Zk5",
        "outputId": "25d12e52-204d-409f-88ca-a54df0670c62"
      },
      "execution_count": null,
      "outputs": [
        {
          "output_type": "execute_result",
          "data": {
            "text/plain": [
              "True"
            ]
          },
          "metadata": {},
          "execution_count": 61
        }
      ]
    },
    {
      "cell_type": "code",
      "source": [
        "bool(\"ajay\")"
      ],
      "metadata": {
        "colab": {
          "base_uri": "https://localhost:8080/"
        },
        "id": "rdjQmk746ZcX",
        "outputId": "a18ec437-3851-4ee3-a905-42bd90a94302"
      },
      "execution_count": null,
      "outputs": [
        {
          "output_type": "execute_result",
          "data": {
            "text/plain": [
              "True"
            ]
          },
          "metadata": {},
          "execution_count": 62
        }
      ]
    },
    {
      "cell_type": "code",
      "source": [
        "bool(\"\") #empty string"
      ],
      "metadata": {
        "colab": {
          "base_uri": "https://localhost:8080/"
        },
        "id": "jN8kDTqJ6ZVU",
        "outputId": "0cb57f97-fa1f-4446-8754-af74b758f93f"
      },
      "execution_count": null,
      "outputs": [
        {
          "output_type": "execute_result",
          "data": {
            "text/plain": [
              "False"
            ]
          },
          "metadata": {},
          "execution_count": 64
        }
      ]
    },
    {
      "cell_type": "code",
      "source": [
        "bool(-5)"
      ],
      "metadata": {
        "colab": {
          "base_uri": "https://localhost:8080/"
        },
        "id": "BSwk6TTd6ZOv",
        "outputId": "5092c181-35bc-4161-967a-f964f77e77c2"
      },
      "execution_count": null,
      "outputs": [
        {
          "output_type": "execute_result",
          "data": {
            "text/plain": [
              "True"
            ]
          },
          "metadata": {},
          "execution_count": 65
        }
      ]
    },
    {
      "cell_type": "code",
      "source": [
        "bool(100)"
      ],
      "metadata": {
        "colab": {
          "base_uri": "https://localhost:8080/"
        },
        "id": "pZa9_Rxf6ZIB",
        "outputId": "6c61efa7-9e8f-49c3-c5f0-efe263937061"
      },
      "execution_count": null,
      "outputs": [
        {
          "output_type": "execute_result",
          "data": {
            "text/plain": [
              "True"
            ]
          },
          "metadata": {},
          "execution_count": 66
        }
      ]
    },
    {
      "cell_type": "code",
      "source": [
        "bool(10000)"
      ],
      "metadata": {
        "colab": {
          "base_uri": "https://localhost:8080/"
        },
        "id": "ZbliJOHk6ZBh",
        "outputId": "8d5050ff-8c73-4daf-9ff3-a2c5701cad15"
      },
      "execution_count": null,
      "outputs": [
        {
          "output_type": "execute_result",
          "data": {
            "text/plain": [
              "True"
            ]
          },
          "metadata": {},
          "execution_count": 67
        }
      ]
    },
    {
      "cell_type": "markdown",
      "source": [
        "# Conditional  >> i will play cicket when the weather is sunny\n",
        "#Loop >> i will keep checking out dishes untill all the dishes are over in a buffet\n",
        "#break statement >> i will check out all the dishes untill i get pasta"
      ],
      "metadata": {
        "id": "IUTHytfSvl9c"
      }
    },
    {
      "cell_type": "code",
      "source": [
        "#Conditional statements  >> helps you to code decisions based on some preconditions\n",
        "#if\n",
        "#if else\n",
        "#if elif(elseif)else\n",
        "#nested if else"
      ],
      "metadata": {
        "id": "XE8VXZF7SqXA"
      },
      "execution_count": null,
      "outputs": []
    },
    {
      "cell_type": "code",
      "source": [
        "#if statements\n",
        "#syntax\n",
        "#if condition True:                     >>(if this is true then python says that go inside the block  )\n",
        "#     block of code will be executed    >> (space before the block is called indentation)"
      ],
      "metadata": {
        "id": "oFvuQtknZjGF"
      },
      "execution_count": null,
      "outputs": []
    },
    {
      "cell_type": "code",
      "source": [
        "3>4"
      ],
      "metadata": {
        "colab": {
          "base_uri": "https://localhost:8080/"
        },
        "id": "ZSIUSNRDceeD",
        "outputId": "381cdd24-4588-4885-be96-da2e102d8473"
      },
      "execution_count": null,
      "outputs": [
        {
          "output_type": "execute_result",
          "data": {
            "text/plain": [
              "False"
            ]
          },
          "metadata": {},
          "execution_count": 69
        }
      ]
    },
    {
      "cell_type": "code",
      "source": [
        "1<4"
      ],
      "metadata": {
        "colab": {
          "base_uri": "https://localhost:8080/"
        },
        "id": "hFGoiwBRcitA",
        "outputId": "12f92a6f-d37a-48e6-f5c7-c3f9ee5eef20"
      },
      "execution_count": null,
      "outputs": [
        {
          "output_type": "execute_result",
          "data": {
            "text/plain": [
              "True"
            ]
          },
          "metadata": {},
          "execution_count": 70
        }
      ]
    },
    {
      "cell_type": "code",
      "source": [
        "a = 100\n",
        "if a > 0: #execute the if block , if the condition is true\n",
        "  print(\"the number is greater than 0.\")"
      ],
      "metadata": {
        "colab": {
          "base_uri": "https://localhost:8080/"
        },
        "id": "htlotFgEckwu",
        "outputId": "7bbd0212-826a-406e-be2f-2e21580f9608"
      },
      "execution_count": null,
      "outputs": [
        {
          "output_type": "stream",
          "name": "stdout",
          "text": [
            "the number is greater than 0.\n"
          ]
        }
      ]
    },
    {
      "cell_type": "code",
      "source": [
        "a = 100\n",
        "if a < 0: #execute the if block , if the condition is true\n",
        "  print(\"the number is greater than 0.\")"
      ],
      "metadata": {
        "id": "hcUol7o4dAlu"
      },
      "execution_count": 1,
      "outputs": []
    },
    {
      "cell_type": "code",
      "source": [
        "weather = \"rainy\"\n",
        "if weather == \"rainy\": #indentation is necessary here\n",
        "  print (\"i will not play cricket\")\n",
        "\n",
        "\n"
      ],
      "metadata": {
        "colab": {
          "base_uri": "https://localhost:8080/"
        },
        "id": "5rYaXBu5n700",
        "outputId": "0da9699c-9f9f-49bc-d534-350e7a1df4cf"
      },
      "execution_count": 4,
      "outputs": [
        {
          "output_type": "stream",
          "name": "stdout",
          "text": [
            "i will not play cricket\n"
          ]
        }
      ]
    },
    {
      "cell_type": "code",
      "source": [
        "weather = \"sunny\"\n",
        "if weather == \"rainy\":\n",
        "  print (\"i will not play cricket\")"
      ],
      "metadata": {
        "id": "MV9GLWUwpDBX"
      },
      "execution_count": 5,
      "outputs": []
    },
    {
      "cell_type": "code",
      "source": [
        "temp = 30\n",
        "if temp>25:\n",
        "  print(\"room temp\")\n",
        ""
      ],
      "metadata": {
        "colab": {
          "base_uri": "https://localhost:8080/"
        },
        "id": "OITTNpnnpIUG",
        "outputId": "f0e0a2ab-f233-4de3-e88c-12f027182e1d"
      },
      "execution_count": 6,
      "outputs": [
        {
          "output_type": "stream",
          "name": "stdout",
          "text": [
            "room temp\n"
          ]
        }
      ]
    },
    {
      "cell_type": "code",
      "source": [
        "is_ds_course = True\n",
        "if is_ds_course:\n",
        "  print(\"i am studing the course\")"
      ],
      "metadata": {
        "colab": {
          "base_uri": "https://localhost:8080/"
        },
        "id": "rZ381o1cqZEI",
        "outputId": "668c14e9-3e51-4b0c-9a77-4c9c7389c57b"
      },
      "execution_count": 8,
      "outputs": [
        {
          "output_type": "stream",
          "name": "stdout",
          "text": [
            "i am studing the course\n"
          ]
        }
      ]
    },
    {
      "cell_type": "code",
      "source": [
        "grade = 8\n",
        "if grade >=8:\n",
        "  print(\"you are excellent\")"
      ],
      "metadata": {
        "colab": {
          "base_uri": "https://localhost:8080/"
        },
        "id": "EpxEVHazqZAW",
        "outputId": "f2bff5b9-3cf9-40cb-b295-de0fe5b31c7a"
      },
      "execution_count": 9,
      "outputs": [
        {
          "output_type": "stream",
          "name": "stdout",
          "text": [
            "you are excellent\n"
          ]
        }
      ]
    },
    {
      "cell_type": "code",
      "source": [
        "number = 42\n",
        "if number %2 ==0:\n",
        "  print(\"the number is even\")"
      ],
      "metadata": {
        "colab": {
          "base_uri": "https://localhost:8080/"
        },
        "id": "pSnyemuErCoH",
        "outputId": "c8bea57e-31d0-490b-badf-99eafbb9c561"
      },
      "execution_count": 10,
      "outputs": [
        {
          "output_type": "stream",
          "name": "stdout",
          "text": [
            "the number is even\n"
          ]
        }
      ]
    },
    {
      "cell_type": "code",
      "source": [
        "#in real life, decisions are made based on multiple conditions\n",
        "number = 42\n",
        "if ((number %2 ==0) & (number >0)):\n",
        "  print(\"this is the number of interest\")"
      ],
      "metadata": {
        "colab": {
          "base_uri": "https://localhost:8080/"
        },
        "id": "N2DIQ6j5rZKJ",
        "outputId": "0ea6265c-421b-4f13-8e42-e4d904000112"
      },
      "execution_count": 11,
      "outputs": [
        {
          "output_type": "stream",
          "name": "stdout",
          "text": [
            "this is the number of interest\n"
          ]
        }
      ]
    },
    {
      "cell_type": "code",
      "source": [
        "grade = 8\n",
        "co_cirr = True\n",
        "if ((grade >=8) and (co_cirr == True)):\n",
        "  print(\"you all rounder\")"
      ],
      "metadata": {
        "colab": {
          "base_uri": "https://localhost:8080/"
        },
        "id": "Ardcbtxrsfji",
        "outputId": "bcc769a4-1a79-4faa-a769-ae9d7c871c76"
      },
      "execution_count": 13,
      "outputs": [
        {
          "output_type": "stream",
          "name": "stdout",
          "text": [
            "you all rounder\n"
          ]
        }
      ]
    },
    {
      "cell_type": "code",
      "source": [
        "# in real life if one condition is not fulfilled, you will do something else\n",
        "# example : if weather is not rainy , i will go to play cricket else i will watch TV\n"
      ],
      "metadata": {
        "id": "8lPImLwHtlRW"
      },
      "execution_count": null,
      "outputs": []
    },
    {
      "cell_type": "code",
      "source": [
        "weather = \"sunny\"\n",
        "if weather == \"sunny\": #condition is true, execute if block\n",
        "  print(\"i will play cricket\")\n",
        "else: #condition is not true, else block will be executed\n",
        "    print(\"i will watch TV\")\n"
      ],
      "metadata": {
        "colab": {
          "base_uri": "https://localhost:8080/"
        },
        "id": "HDXpJ4IWwUN1",
        "outputId": "95fcd5c2-e0d6-4df3-d8b0-83ec9d2fcdc8"
      },
      "execution_count": 25,
      "outputs": [
        {
          "output_type": "stream",
          "name": "stdout",
          "text": [
            "i will play cricket\n"
          ]
        }
      ]
    },
    {
      "cell_type": "code",
      "source": [
        "age = 17\n",
        "if age >=18:\n",
        "  print(\"you will be served alcohole\")\n",
        "else:\n",
        "  print(\"get out of the bar\")\n"
      ],
      "metadata": {
        "colab": {
          "base_uri": "https://localhost:8080/"
        },
        "id": "ZgI7Y6JJwrw1",
        "outputId": "4d1263a3-7310-4c17-e224-97bf4f7c6bc6"
      },
      "execution_count": 27,
      "outputs": [
        {
          "output_type": "stream",
          "name": "stdout",
          "text": [
            "get out of the bar\n"
          ]
        }
      ]
    },
    {
      "cell_type": "code",
      "source": [
        "age = 19\n",
        "if age >=18:\n",
        "  print(\"please have a driving license and drive\")\n",
        "else:\n",
        "  print(\"dont drive\")\n"
      ],
      "metadata": {
        "colab": {
          "base_uri": "https://localhost:8080/"
        },
        "id": "9IVPIs4q1B-t",
        "outputId": "909550c9-834f-4c15-eff9-8e700fe9e917"
      },
      "execution_count": 29,
      "outputs": [
        {
          "output_type": "stream",
          "name": "stdout",
          "text": [
            "please have a driving license and drive\n"
          ]
        }
      ]
    },
    {
      "cell_type": "code",
      "source": [
        "age = 12\n",
        "if age >=18:\n",
        "  print(\"please have a driving license and drive\")\n",
        "else:\n",
        "  print(\"dont drive\")\n"
      ],
      "metadata": {
        "colab": {
          "base_uri": "https://localhost:8080/"
        },
        "id": "fzFKU20G1Ufw",
        "outputId": "bea885c8-4c9e-495e-8fbc-a901815b8aab"
      },
      "execution_count": 30,
      "outputs": [
        {
          "output_type": "stream",
          "name": "stdout",
          "text": [
            "dont drive\n"
          ]
        }
      ]
    },
    {
      "cell_type": "code",
      "source": [
        "is_dscourse = False\n",
        "if is_dscourse:\n",
        "  print(\"i am studying\")\n",
        "else:\n",
        "  print(\"i am playing cricket\")"
      ],
      "metadata": {
        "colab": {
          "base_uri": "https://localhost:8080/"
        },
        "id": "dTFCU3gu1g-Z",
        "outputId": "de57ccfc-2cf5-4071-9c73-0773c1181414"
      },
      "execution_count": 31,
      "outputs": [
        {
          "output_type": "stream",
          "name": "stdout",
          "text": [
            "i am playing cricket\n"
          ]
        }
      ]
    },
    {
      "cell_type": "code",
      "source": [
        "x = 16\n",
        "if x > 5:\n",
        "  print(\"x is greater than 5\")\n",
        "else:\n",
        "  print(\"the no is less than 5\")"
      ],
      "metadata": {
        "colab": {
          "base_uri": "https://localhost:8080/"
        },
        "id": "8sBityZa2m1C",
        "outputId": "47263f6d-45b6-4bde-c9f0-db3f86f766fc"
      },
      "execution_count": 35,
      "outputs": [
        {
          "output_type": "stream",
          "name": "stdout",
          "text": [
            "x is greater than 5\n"
          ]
        }
      ]
    },
    {
      "cell_type": "code",
      "source": [
        "# to check  if a no is even\n",
        "6 % 2"
      ],
      "metadata": {
        "colab": {
          "base_uri": "https://localhost:8080/"
        },
        "id": "YkSrNmZS3Q6K",
        "outputId": "950aa862-e9d8-44f5-d8b5-9021f337b756"
      },
      "execution_count": 1,
      "outputs": [
        {
          "output_type": "execute_result",
          "data": {
            "text/plain": [
              "0"
            ]
          },
          "metadata": {},
          "execution_count": 1
        }
      ]
    },
    {
      "cell_type": "code",
      "source": [
        "num = 4\n",
        "if num % 2 == 0:\n",
        "  print(\"even\")\n",
        "else:\n",
        "  print(\"odd\")"
      ],
      "metadata": {
        "colab": {
          "base_uri": "https://localhost:8080/"
        },
        "id": "NMv7MdE7jZiH",
        "outputId": "6a41458b-322d-46a2-c7fc-5f7c2347ec61"
      },
      "execution_count": 4,
      "outputs": [
        {
          "output_type": "stream",
          "name": "stdout",
          "text": [
            "even\n"
          ]
        }
      ]
    },
    {
      "cell_type": "code",
      "source": [
        "score = 30\n",
        "if score >= 33:\n",
        "  print(\"you are passed\")\n",
        "else:\n",
        "  print(\"repeat the class\")"
      ],
      "metadata": {
        "colab": {
          "base_uri": "https://localhost:8080/"
        },
        "id": "qw4-5jXSjsQP",
        "outputId": "7b6df9c5-1a6b-4136-c34d-d796713c2003"
      },
      "execution_count": 6,
      "outputs": [
        {
          "output_type": "stream",
          "name": "stdout",
          "text": [
            "repeat the class\n"
          ]
        }
      ]
    },
    {
      "cell_type": "code",
      "source": [
        "# if else >> two condition\n",
        "# in real life we can have multiple condition\n",
        "#syntax\n",
        "#if some condition\n",
        "#elif some condition\n",
        "#else"
      ],
      "metadata": {
        "id": "sBzXTSmrkVDL"
      },
      "execution_count": null,
      "outputs": []
    },
    {
      "cell_type": "code",
      "source": [
        "a = 100\n",
        "if a > 100:\n",
        "  print(\"this block will be executed if a is greater than 100\")\n",
        "elif a < 100:\n",
        "  print(\"this block will be executed if a is lesser than 100 \")\n",
        "else:\n",
        "  print(\"the number is equals to 100\")"
      ],
      "metadata": {
        "colab": {
          "base_uri": "https://localhost:8080/"
        },
        "id": "LBnHvJsWk85Y",
        "outputId": "6ce55f57-0060-4a89-cfb3-7d94028a6638"
      },
      "execution_count": 8,
      "outputs": [
        {
          "output_type": "stream",
          "name": "stdout",
          "text": [
            "the number is equals to 100\n"
          ]
        }
      ]
    },
    {
      "cell_type": "code",
      "source": [
        "a = 1000000\n",
        "if a < 100:\n",
        "  print(\"this block will be executed if a is lesser than 100\")\n",
        "elif a > 2000:\n",
        "  print(\"the number is huge\")\n",
        "elif a > 100:\n",
        "  print(\"this block will be executed if a is greater than 100 \")\n",
        "else:\n",
        "  print(\"the number is equals to 100\")"
      ],
      "metadata": {
        "colab": {
          "base_uri": "https://localhost:8080/"
        },
        "id": "-bsIT-9vl7tV",
        "outputId": "bc76da76-cc02-4ca5-b066-b042bc054a48"
      },
      "execution_count": 3,
      "outputs": [
        {
          "output_type": "stream",
          "name": "stdout",
          "text": [
            "the number is huge\n"
          ]
        }
      ]
    },
    {
      "cell_type": "code",
      "source": [
        "score = 75\n",
        "if score >=90:\n",
        "  print(\"grade A\")\n",
        "elif (80<=score<90):\n",
        "  print(\"grade B\")\n",
        "elif (70<=score<80):\n",
        "  print(\"grade C \")\n",
        "else:\n",
        "  print(\"Grade D\")"
      ],
      "metadata": {
        "colab": {
          "base_uri": "https://localhost:8080/"
        },
        "id": "ypIbShbqjbeB",
        "outputId": "ee90eeda-c068-4c7a-bc45-d425e23341b9"
      },
      "execution_count": 6,
      "outputs": [
        {
          "output_type": "stream",
          "name": "stdout",
          "text": [
            "grade C \n"
          ]
        }
      ]
    },
    {
      "cell_type": "code",
      "source": [
        "age = 80\n",
        "if age < 18:\n",
        "  print(\" you are minority\")\n",
        "elif 18<age<=65:\n",
        "  print(\"you are adult\")\n",
        "else:\n",
        "  print(\"you are senior citizen\")\n"
      ],
      "metadata": {
        "colab": {
          "base_uri": "https://localhost:8080/"
        },
        "id": "Ri9cLUZ4lwlf",
        "outputId": "55bf27e5-97a2-4426-f870-c2ab696b5e08"
      },
      "execution_count": 8,
      "outputs": [
        {
          "output_type": "stream",
          "name": "stdout",
          "text": [
            "you are senior citizen\n"
          ]
        }
      ]
    },
    {
      "cell_type": "code",
      "source": [
        "#nested if else >> you can have multiple if else inside if else\n",
        "x = 1\n",
        "y = 6\n",
        "if x > 5:\n",
        "  if y > 5:\n",
        "    print(\"both x and y is greater than 5\")\n",
        "  else:\n",
        "    print(\"x is greater than but y is less than 5\")\n",
        "else:\n",
        "  print(\"x is not greater than 5\")\n"
      ],
      "metadata": {
        "colab": {
          "base_uri": "https://localhost:8080/"
        },
        "id": "AGKvf9NRonVU",
        "outputId": "5d3e0c26-e96f-47e6-beac-03f06fbeb7b2"
      },
      "execution_count": 1,
      "outputs": [
        {
          "output_type": "stream",
          "name": "stdout",
          "text": [
            "x is not greater than 5\n"
          ]
        }
      ]
    },
    {
      "cell_type": "code",
      "source": [
        "is_vip = True\n",
        "age = 15\n",
        "if is_vip:\n",
        "  if age >=18:\n",
        "    if age<65:\n",
        "      print(\"welcome to vip customer\")\n",
        "    else:\n",
        "      print(\"you are vip and very imp. You are eligible for senior citizen discount\")\n",
        "  else:\n",
        "    print(\"vip status is only for adult\")\n",
        "else:\n",
        "  print(\"You are not a vip customer and will be charged a regular price\")"
      ],
      "metadata": {
        "colab": {
          "base_uri": "https://localhost:8080/"
        },
        "id": "GCBf0_S17Z1l",
        "outputId": "9dbd2667-ce2b-4dc2-fe9c-a7a2ceea6bf1"
      },
      "execution_count": 4,
      "outputs": [
        {
          "output_type": "stream",
          "name": "stdout",
          "text": [
            "vip status is only for adult\n"
          ]
        }
      ]
    },
    {
      "cell_type": "code",
      "source": [
        "a = input(\"Enter a no\") # by default input treats everything as string\n",
        "print(\"The no is\", a)\n"
      ],
      "metadata": {
        "colab": {
          "base_uri": "https://localhost:8080/"
        },
        "id": "qtYUMRVe8Tc6",
        "outputId": "3c9634a7-64cf-4ee9-cccd-64b7abc86db7"
      },
      "execution_count": 5,
      "outputs": [
        {
          "output_type": "stream",
          "name": "stdout",
          "text": [
            "Enter a no100\n",
            "The no is 100\n"
          ]
        }
      ]
    },
    {
      "cell_type": "code",
      "source": [
        "type(a)"
      ],
      "metadata": {
        "colab": {
          "base_uri": "https://localhost:8080/"
        },
        "id": "i9KlErg7BQvz",
        "outputId": "b08e2fef-276f-4838-ffe1-50c5bd1841f2"
      },
      "execution_count": 6,
      "outputs": [
        {
          "output_type": "execute_result",
          "data": {
            "text/plain": [
              "str"
            ]
          },
          "metadata": {},
          "execution_count": 6
        }
      ]
    },
    {
      "cell_type": "code",
      "source": [
        "a = int(input(\"Enter a no\"))\n",
        "a"
      ],
      "metadata": {
        "colab": {
          "base_uri": "https://localhost:8080/"
        },
        "id": "tgrp15whBS3Q",
        "outputId": "bc8e6060-b336-4d0e-d572-17f1359fbbaa"
      },
      "execution_count": 8,
      "outputs": [
        {
          "name": "stdout",
          "output_type": "stream",
          "text": [
            "Enter a no3\n"
          ]
        },
        {
          "output_type": "execute_result",
          "data": {
            "text/plain": [
              "3"
            ]
          },
          "metadata": {},
          "execution_count": 8
        }
      ]
    },
    {
      "cell_type": "code",
      "source": [
        "a = int(input(\"Enter a no\"))\n",
        "if a >= 100:\n",
        "  print(\" The no is greater than 100\")\n",
        "elif 0<=a<100:\n",
        "  print(\"The no is greater than 0 and less than 100\")\n",
        "else:\n",
        "  print(\"This is a negative no\")"
      ],
      "metadata": {
        "colab": {
          "base_uri": "https://localhost:8080/"
        },
        "id": "MEB5rwggB-EE",
        "outputId": "993ed51f-a91a-4844-fbbd-678022c444ae"
      },
      "execution_count": 2,
      "outputs": [
        {
          "output_type": "stream",
          "name": "stdout",
          "text": [
            "Enter a no800\n",
            " The no is greater than 100\n"
          ]
        }
      ]
    },
    {
      "cell_type": "code",
      "source": [
        "a = int(input(\"Enter a no\"))\n",
        "if a >= 100:\n",
        "  print(\" The no is greater than 100\")\n",
        "elif 0<=a<100:\n",
        "  print(\"The no is greater than 0 and less than 100\")\n",
        "else:\n",
        "  print(\"This is a negative no\")"
      ],
      "metadata": {
        "colab": {
          "base_uri": "https://localhost:8080/"
        },
        "id": "EfnFeCGSkXdW",
        "outputId": "2166189f-c4b2-4da0-c9b6-75108e4b4e69"
      },
      "execution_count": 3,
      "outputs": [
        {
          "output_type": "stream",
          "name": "stdout",
          "text": [
            "Enter a no-6\n",
            "This is a negative no\n"
          ]
        }
      ]
    },
    {
      "cell_type": "code",
      "source": [
        "name = input(\"please enter your name\")\n",
        "email = input(\"please enter your email\")\n",
        "password = input(\"please enter ypur password\")\n",
        "\n",
        "if name ==\"\":\n",
        "  print(\"please enter a valid name, cannot be empty\")\n",
        "else:\n",
        "  if \"@\" not in email:\n",
        "    print(\"please enter a valid email\")\n",
        "  else:\n",
        "    if len(password)< 0:\n",
        "      print(\"no password entered, pls provide a valid password\")\n",
        "    else:\n",
        "      print(\"login/registration is successfull\")\n",
        "\n"
      ],
      "metadata": {
        "colab": {
          "base_uri": "https://localhost:8080/"
        },
        "id": "Vp_vViDglaxS",
        "outputId": "2cf4813f-2472-4fd4-d348-b26e821265d9"
      },
      "execution_count": 4,
      "outputs": [
        {
          "output_type": "stream",
          "name": "stdout",
          "text": [
            "please enter your nameurvi\n",
            "please enter your emailurvi2@\n",
            "please enter ypur password00456\n",
            "login/registration is successfull\n"
          ]
        }
      ]
    },
    {
      "cell_type": "code",
      "source": [],
      "metadata": {
        "id": "uPISwOR1o7cL"
      },
      "execution_count": null,
      "outputs": []
    }
  ]
}